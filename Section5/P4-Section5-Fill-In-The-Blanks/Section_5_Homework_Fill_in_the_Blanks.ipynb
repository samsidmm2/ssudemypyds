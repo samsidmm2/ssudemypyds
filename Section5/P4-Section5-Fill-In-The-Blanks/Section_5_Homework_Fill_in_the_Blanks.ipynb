{
 "cells": [
  {
   "cell_type": "markdown",
   "metadata": {},
   "source": [
    "## Section 5 Homework - Fill in the Blanks"
   ]
  },
  {
   "cell_type": "markdown",
   "metadata": {},
   "source": [
    "Import the packages needed to perform the analysis"
   ]
  },
  {
   "cell_type": "code",
   "execution_count": null,
   "metadata": {
    "collapsed": true
   },
   "outputs": [],
   "source": [
    "import _ as pd\n",
    "import _ as np\n",
    "import _ as plt\n",
    "import _ as sns\n",
    "%matplotlib inline"
   ]
  },
  {
   "cell_type": "markdown",
   "metadata": {},
   "source": [
    "Load the data provided for the exercise"
   ]
  },
  {
   "cell_type": "code",
   "execution_count": null,
   "metadata": {
    "collapsed": true
   },
   "outputs": [],
   "source": [
    "# Import the csv dataset\n",
    "data = _(\"Section5-Homework-Data.csv\")"
   ]
  },
  {
   "cell_type": "markdown",
   "metadata": {},
   "source": [
    "Explore the data"
   ]
  },
  {
   "cell_type": "code",
   "execution_count": null,
   "metadata": {
    "collapsed": true
   },
   "outputs": [],
   "source": [
    "# Visualize the dataframe\n",
    "data"
   ]
  },
  {
   "cell_type": "code",
   "execution_count": null,
   "metadata": {
    "collapsed": true
   },
   "outputs": [],
   "source": [
    "# Rename the column names\n",
    "data._ = ['CountryName', 'CountryCode', 'BirthRate', 'InternetUsers', 'IncomeGroup']"
   ]
  },
  {
   "cell_type": "code",
   "execution_count": null,
   "metadata": {
    "collapsed": true
   },
   "outputs": [],
   "source": [
    "# Check top 6 rows\n",
    "data._(6)"
   ]
  },
  {
   "cell_type": "code",
   "execution_count": null,
   "metadata": {
    "collapsed": true
   },
   "outputs": [],
   "source": [
    "# Check bottom 7 rows\n",
    "data._(7)"
   ]
  },
  {
   "cell_type": "code",
   "execution_count": null,
   "metadata": {
    "collapsed": true
   },
   "outputs": [],
   "source": [
    "# Check the structure of the data frame\n",
    "data._()"
   ]
  },
  {
   "cell_type": "code",
   "execution_count": null,
   "metadata": {
    "collapsed": true
   },
   "outputs": [],
   "source": [
    "# Check the summary of the data\n",
    "data._()"
   ]
  },
  {
   "cell_type": "markdown",
   "metadata": {},
   "source": [
    "### Request 1\n",
    "You are employed as a Data Scientist by the World Bank and you are working on a project to analyse the World’s demographic trends.\n",
    "\n",
    "You are required to produce a scatterplot illustrating Birth Rate and Internet Usage statistics by Country.\n",
    "\n",
    "The scatterplot needs to also be categorised by Countries’ Income Groups. "
   ]
  },
  {
   "cell_type": "code",
   "execution_count": null,
   "metadata": {
    "collapsed": true
   },
   "outputs": [],
   "source": [
    "# Plot the BirthRate versus Internet Users categorized by Income Group\n",
    "vis1 = sns._( data = data, x = '_', y = '_', fit_reg = False, hue = '_', size = 10 )"
   ]
  },
  {
   "cell_type": "markdown",
   "metadata": {},
   "source": [
    "### Request 2\n",
    "You have received an urgent update from your manager. \n",
    "\n",
    "You are required to produce a second scatterplot also illustrating Birth Rate and Internet Usage statistics by Country.\n",
    "\n",
    "However, this time the scatterplot needs to be categorised by Countries’ Regions.\n",
    "\n",
    "Additional data has been supplied in the form of lists."
   ]
  },
  {
   "cell_type": "code",
   "execution_count": null,
   "metadata": {
    "collapsed": true
   },
   "outputs": [],
   "source": [
    "# Copy here the data from the homework provided in lists, Country names, codes and regions dataset\n"
   ]
  },
  {
   "cell_type": "code",
   "execution_count": null,
   "metadata": {
    "collapsed": true
   },
   "outputs": [],
   "source": [
    "# Create the dataframe\n",
    "country_data = pd._({'CountryName': np.array(Countries_2012_Dataset), \n",
    "                             'CountryCode': np.array(Codes_2012_Dataset),\n",
    "                             'CountryRegion': np.array(Regions_2012_Dataset)})"
   ]
  },
  {
   "cell_type": "code",
   "execution_count": null,
   "metadata": {
    "collapsed": true
   },
   "outputs": [],
   "source": [
    "# Explore the dataset\n",
    "country_data._()"
   ]
  },
  {
   "cell_type": "code",
   "execution_count": null,
   "metadata": {
    "collapsed": true
   },
   "outputs": [],
   "source": [
    "# Merge the country data to the original dataframe\n",
    "merged_data = pd._(left=data, right=country_data, how='inner', on=\"CountryCode\")"
   ]
  },
  {
   "cell_type": "code",
   "execution_count": null,
   "metadata": {
    "collapsed": true
   },
   "outputs": [],
   "source": [
    "# Explore the dataset\n",
    "merged_data._()"
   ]
  },
  {
   "cell_type": "code",
   "execution_count": null,
   "metadata": {
    "collapsed": true
   },
   "outputs": [],
   "source": [
    "# Plot the BirthRate versus Internet Users cathegorized by Country Region\n",
    "vis2 = sns._( data = merged_data, x = '_', y = '_', fit_reg = False, hue = '_', size = 10 )"
   ]
  },
  {
   "cell_type": "markdown",
   "metadata": {},
   "source": [
    "### Challenge\n",
    "\n",
    "The world bank was very impressed with your deliverables on the previous assignment and they have a new project for you. \n",
    "\n",
    "You are required to produce a scatterplot depicting Life Expectancy (y-axis) and Fertility Rate (x-axis) statistics by Country. \n",
    "\n",
    "The scatterplot need to be categorised by Countries Regions.\n",
    "\n",
    "You have been supplied with data for 2 years: 1960 and 2013 and you are requires to produce a visualisation for each of these years.\n",
    "\n",
    "Some data has been provided in a CSV file, some in Python lists. All data manipulations have to be performed in Python (not in Excel) because this project can be audited at the later stage.\n",
    "\n",
    "You also have been requested to provide insights into how the two periods compare. "
   ]
  },
  {
   "cell_type": "code",
   "execution_count": null,
   "metadata": {
    "collapsed": true
   },
   "outputs": [],
   "source": [
    "# Copy here the data from the homework provided in lists, for Country code and life expectancy at birth in 1960 and 2013\n"
   ]
  },
  {
   "cell_type": "code",
   "execution_count": null,
   "metadata": {
    "collapsed": true
   },
   "outputs": [],
   "source": [
    "# Create a data frame with the life expectancy\n",
    "life_exp_data = pd._({'CountryCode': np.array(Country_Code),\n",
    "                              'LifeExp1960': np.array(Life_Expectancy_At_Birth_1960),\n",
    "                              'LifeExp2013': np.array(Life_Expectancy_At_Birth_2013)})"
   ]
  },
  {
   "cell_type": "code",
   "execution_count": null,
   "metadata": {
    "collapsed": true
   },
   "outputs": [],
   "source": [
    "# Check row counts\n",
    "_(_(life_exp_data)) #187 rows"
   ]
  },
  {
   "cell_type": "code",
   "execution_count": null,
   "metadata": {
    "collapsed": true
   },
   "outputs": [],
   "source": [
    "# Check summaries\n",
    "life_exp_data._()"
   ]
  },
  {
   "cell_type": "markdown",
   "metadata": {},
   "source": [
    "Did you pick up that there is more than one year in the data? From the challenge we know that there are two: **1960** and **2013**"
   ]
  },
  {
   "cell_type": "code",
   "execution_count": null,
   "metadata": {
    "collapsed": true
   },
   "outputs": [],
   "source": [
    "# Merge the data frame with the life expectancy\n",
    "merged_data = pd._(left=merged_data, right=life_exp_data, how='inner', on='CountryCode')"
   ]
  },
  {
   "cell_type": "code",
   "execution_count": null,
   "metadata": {
    "collapsed": true
   },
   "outputs": [],
   "source": [
    "# Explore the dataset\n",
    "merged_data._()"
   ]
  },
  {
   "cell_type": "code",
   "execution_count": null,
   "metadata": {
    "collapsed": true
   },
   "outputs": [],
   "source": [
    "# Check the new structures\n",
    "merged_data._()"
   ]
  },
  {
   "cell_type": "markdown",
   "metadata": {},
   "source": [
    "We can see obsolete columns because of the merge operation"
   ]
  },
  {
   "cell_type": "code",
   "execution_count": null,
   "metadata": {
    "collapsed": true
   },
   "outputs": [],
   "source": [
    "# Rename the one of the colunms containing the country names and delete the other\n",
    "merged_data._(columns = {'CountryName_x':'CountryName'}, inplace = True)\n",
    "_ merged_data['CountryName_y']"
   ]
  },
  {
   "cell_type": "code",
   "execution_count": null,
   "metadata": {
    "collapsed": true
   },
   "outputs": [],
   "source": [
    "# Check structures again\n",
    "merged_data._()"
   ]
  },
  {
   "cell_type": "code",
   "execution_count": null,
   "metadata": {
    "collapsed": true
   },
   "outputs": [],
   "source": [
    "# Plot the BirthRate versus LifeExpectancy cathegorized by Country Region in 1960\n",
    "vis3 = sns._( data = merged_data, x = '_', y = '_', fit_reg = False, hue = '_', size = 10 )"
   ]
  },
  {
   "cell_type": "code",
   "execution_count": null,
   "metadata": {
    "collapsed": true
   },
   "outputs": [],
   "source": [
    "# Plot the BirthRate versus LifeExpectancy cathegorized by Country Region in 2013\n"
   ]
  }
 ],
 "metadata": {
  "anaconda-cloud": {},
  "kernelspec": {
   "display_name": "Python [default]",
   "language": "python",
   "name": "python3"
  },
  "language_info": {
   "codemirror_mode": {
    "name": "ipython",
    "version": 3
   },
   "file_extension": ".py",
   "mimetype": "text/x-python",
   "name": "python",
   "nbconvert_exporter": "python",
   "pygments_lexer": "ipython3",
   "version": "3.5.2"
  }
 },
 "nbformat": 4,
 "nbformat_minor": 1
}
